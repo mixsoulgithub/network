{
 "cells": [
  {
   "cell_type": "code",
   "execution_count": 2,
   "id": "12b081a6",
   "metadata": {},
   "outputs": [
    {
     "name": "stdout",
     "output_type": "stream",
     "text": [
      "Requirement already satisfied: networkx in c:\\users\\mix\\anaconda3\\lib\\site-packages (2.6.3)\n"
     ]
    }
   ],
   "source": [
    "!pip install networkx"
   ]
  },
  {
   "cell_type": "markdown",
   "id": "23b088e4",
   "metadata": {},
   "source": [
    "### Proposition:There is a two-coloring-edges K_n with at most $\\left( \\begin{array}{c}n\\\\4\\\\\\end{array} \\right) \\cdot 2^{-5}$monochromatic $K_4$."
   ]
  },
  {
   "cell_type": "markdown",
   "id": "9f81dec9",
   "metadata": {},
   "source": [
    "**proof1**:Indeed, $\\left(\\begin{array}{l}n \\\\ 4\\end{array}\\right) \\cdot 2^{-5}$ is the expected number of monochromatic copies of $K_4$ in a random 2-edge-coloring of $K_n$, and hence a coloring as above exists."
   ]
  },
  {
   "cell_type": "markdown",
   "id": "f56e7bc9",
   "metadata": {},
   "source": [
    "**proof2**: Deterministical proof. Turn expectation of  $K_4$ in all $K_n$ into expectation of all $K_4$ in a sertain $K_n$.  "
   ]
  },
  {
   "cell_type": "markdown",
   "id": "5f3ba18a",
   "metadata": {},
   "source": [
    "First we have graph $K_n$:"
   ]
  },
  {
   "cell_type": "code",
   "execution_count": null,
   "id": "7103e8e1",
   "metadata": {},
   "outputs": [],
   "source": []
  },
  {
   "cell_type": "markdown",
   "id": "d630ca9e",
   "metadata": {},
   "source": [
    "Then define $W$,$w(K)$:If at least one edge of $K$ is colored red and at least one edge is colored blue then $w(K)=0$. If no edge of $K$ is colored, then $w(K)=2^{-5}$, and if $r \\geq 1$ edges of $K$ are colored, all with the same color, then $w(K)=2^{r-6}$. Also define the total weight $W = \\sum w(K)$, as $K$ ranges over all copies of $K_4$ in $K_n$.   \n",
    "\n",
    "we computer $W$ from no edge is colored,noted as $W_0$.$W_0=\\left(\\begin{array}{l}n \\\\ 4\\end{array}\\right) \\cdot 2^{-5}$."
   ]
  },
  {
   "cell_type": "code",
   "execution_count": null,
   "id": "e8fb9967",
   "metadata": {},
   "outputs": [],
   "source": []
  },
  {
   "cell_type": "markdown",
   "id": "0554b7a2",
   "metadata": {},
   "source": [
    "Now we color edges{$e_1,\\dots,e_{\\left( \\begin{array}{c}n\\\\2\\end{array} \\right)}$} one by one and update $W_{i-1}$ to $W_{i-1}$(by updating $w(K_4)$ where those $K_4$ contain present $e_i$).  \n",
    "\n",
    "By defination of $W_{i-1}$,we get$$\n",
    "W_{i-1}=\\frac{W_{\\text {ired }}+W_{\\text {iblue }}}{2} .\n",
    "$$\n",
    "\n",
    "where $W_{\\text {ired }}$  is $\\sum w(K)$ when we color $e_i$ red,blue situation is similiar. So if $W_{\\text {ired }} \\leq$ $W_{\\text {iblue }}$ then we color $e_i$ red,and $W_{i}=W_{\\text {ired }}$ , otherwise, we color it blue. Then we get $W_{\\left( \\begin{array}{c}n\\\\2\\end{array} \\right)} \\leqslant \\dots \\leqslant W_0$.That is, monochromatic $K_4$ in this graph is less than$\\left( \\begin{array}{c}n\\\\4\\\\\\end{array} \\right) \\cdot 2^{-5}$"
   ]
  },
  {
   "cell_type": "code",
   "execution_count": null,
   "id": "decdc2a4",
   "metadata": {},
   "outputs": [],
   "source": []
  },
  {
   "cell_type": "markdown",
   "id": "55e2fbd9",
   "metadata": {},
   "source": [
    "so this alogthrim gives a certain graph for fixed n?"
   ]
  },
  {
   "cell_type": "code",
   "execution_count": null,
   "id": "db18d182",
   "metadata": {},
   "outputs": [],
   "source": []
  }
 ],
 "metadata": {
  "kernelspec": {
   "display_name": "Python 3 (ipykernel)",
   "language": "python",
   "name": "python3"
  },
  "language_info": {
   "codemirror_mode": {
    "name": "ipython",
    "version": 3
   },
   "file_extension": ".py",
   "mimetype": "text/x-python",
   "name": "python",
   "nbconvert_exporter": "python",
   "pygments_lexer": "ipython3",
   "version": "3.9.7"
  }
 },
 "nbformat": 4,
 "nbformat_minor": 5
}
