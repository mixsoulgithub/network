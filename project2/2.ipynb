{
 "cells": [
  {
   "cell_type": "markdown",
   "id": "8a8e3dd8",
   "metadata": {},
   "source": [
    "### 姓名:王湛     \n",
    "### 学号:519432910019"
   ]
  },
  {
   "cell_type": "code",
   "execution_count": 1,
   "id": "dd5e79a8",
   "metadata": {},
   "outputs": [],
   "source": [
    "import numpy as np\n",
    "import matplotlib.pyplot as plt\n",
    "import random\n",
    "from itertools import combinations\n",
    "from collections import deque\n",
    "\n",
    "n=15\n",
    "weight = np.array([70,73,77,80,82,87,90,94,98,106,110,113,115,118,120])#w is weight,c is capacity,p is profit,s is solution\n",
    "capacity = 750\n",
    "profit = np.array([135,139,149,150,156,163,173,184,192,201,210,214,221,229,240])"
   ]
  },
  {
   "cell_type": "code",
   "execution_count": null,
   "id": "a3ae20e4",
   "metadata": {},
   "outputs": [],
   "source": [
    "#所有可能的递归生成\n",
    "def generate_binary_arrays(n, array=[]):\n",
    "    if n == 0:\n",
    "        print(array)\n",
    "    else:\n",
    "        array.append(0)\n",
    "        generate_binary_arrays(n - 1, array)\n",
    "        array.pop()\n",
    "        array.append(1)\n",
    "        generate_binary_arrays(n - 1, array)\n",
    "        array.pop()\n",
    "\n",
    "# 生成长度为15的所有由0和1组成的数组\n",
    "length = 15\n",
    "generate_binary_arrays(length)"
   ]
  },
  {
   "cell_type": "code",
   "execution_count": 3,
   "id": "b10c6c0e",
   "metadata": {
    "scrolled": false
   },
   "outputs": [
    {
     "name": "stdout",
     "output_type": "stream",
     "text": [
      "[1, 0, 1, 0, 1, 0, 1, 1, 1, 0, 0, 0, 0, 1, 1] 749 1458\n"
     ]
    }
   ],
   "source": [
    "domain=[]\n",
    "best_profit=0\n",
    "best_comb=np.zeros(n)\n",
    "#穷举法\n",
    "for i in range(2**n):\n",
    "    # 将整数转换为二进制字符串，并去掉开头的'0b'标识符\n",
    "    binary_string = bin(i)[2:]\n",
    "    comb = [int(bit) for bit in binary_string.zfill(n)]\n",
    "    if np.dot(comb,weight)<= capacity:\n",
    "        domain.append(comb)\n",
    "        if best_profit<=np.dot(comb,profit):\n",
    "            best_profit = np.dot(comb,profit)\n",
    "            best_comb = comb\n",
    "\n",
    "print(best_comb,np.dot(best_comb,weight),best_profit)#穷举法的最优解，重量，价值"
   ]
  },
  {
   "cell_type": "code",
   "execution_count": 4,
   "id": "6d953692",
   "metadata": {},
   "outputs": [],
   "source": [
    "def neighbour(a,dis):#以a为圆心，dis为半径的邻域中的所有元素\n",
    "    neigh=[]\n",
    "    for i in range(1,dis+1):#最少修改1位,最多修改dis位\n",
    "        for j in list(combinations(range(len(a)),i)):#具体修改的位置\n",
    "            acopy=a.copy()\n",
    "            for k in j:#逐位置修改\n",
    "                acopy[k]=(acopy[k]+1)%2\n",
    "            if np.dot(acopy,weight)<capacity: #重量不超过capacity\n",
    "                neigh.append(acopy)\n",
    "    return neigh"
   ]
  },
  {
   "cell_type": "code",
   "execution_count": 5,
   "id": "c14ae3ff",
   "metadata": {},
   "outputs": [],
   "source": [
    "def neigh_best(curr_comb,dis):\n",
    "    neigh_best_comb=np.zeros(n)\n",
    "    neigh_best_profit=0\n",
    "    for i in neighbour(curr_comb,dis):#对于所有hamming距离小于等于2的点，通过改变几个个位置来遍历搜索。\n",
    "        flag=1\n",
    "        for j in tabu_list:#确定i是否在禁忌表中\n",
    "            if not(i-j).any():#只有所有元素均相等时.any()返回false，也就是i在tabu_list中时，flag为0\n",
    "                flag=0\n",
    "                break\n",
    "        if np.dot(i,profit) > neigh_best_profit and flag:  #大于目前邻域内的最优值，且不在禁忌表中，则更新\n",
    "            neigh_best_comb=i.copy()\n",
    "            neigh_best_profit=np.dot(i,profit)\n",
    "    return neigh_best_comb"
   ]
  },
  {
   "cell_type": "code",
   "execution_count": 7,
   "id": "368b0329",
   "metadata": {},
   "outputs": [
    {
     "name": "stdout",
     "output_type": "stream",
     "text": [
      "[0. 0. 0. 0. 1. 0. 0. 0. 1. 1. 1. 0. 1. 1. 1.] 749.0 1449.0\n"
     ]
    }
   ],
   "source": [
    "#tabu search\n",
    "curr_comb=np.zeros(n)#这里可以随机生成初始点\n",
    "tabu_comb=np.zeros(n)\n",
    "tabu_profit=0\n",
    "tabu_list=deque(maxlen=5)#禁忌队列长度为5\n",
    "endstep=100 #最大运行步数，停止条件\n",
    "dis=2\n",
    "#在领域中选最好的一点，如果大于目前的最优值，直接替换，如果小于等于，则将目前的最优值和点列入禁忌表，\n",
    "i=0\n",
    "while i <=endstep:\n",
    "    neigh_best_comb = neigh_best(curr_comb,dis)\n",
    "    tabu_list.append(curr_comb)#重点：把上一步列为禁忌\n",
    "#     print(tabu_list)\n",
    "    if np.dot(neigh_best_comb,profit)>np.dot(tabu_comb,profit):\n",
    "        tabu_comb=neigh_best_comb.copy()#只用保持对历史最优解的更新\n",
    "    curr_comb=neigh_best_comb.copy()\n",
    "    i=i+1\n",
    "print(tabu_comb,np.dot(tabu_comb,weight),np.dot(tabu_comb,profit))#输出组合方式，重量，价值"
   ]
  },
  {
   "cell_type": "code",
   "execution_count": 8,
   "id": "43d184e3",
   "metadata": {},
   "outputs": [],
   "source": [
    "def f(x):\n",
    "    return -np.dot(x,profit)#按照极小化，这里应该是负的"
   ]
  },
  {
   "cell_type": "code",
   "execution_count": 9,
   "id": "2fb8aacd",
   "metadata": {},
   "outputs": [],
   "source": [
    "def p(x_next,x):\n",
    "    return e**-(f(x_next)-f(x))/T"
   ]
  },
  {
   "cell_type": "code",
   "execution_count": 10,
   "id": "dd76a294",
   "metadata": {},
   "outputs": [
    {
     "name": "stdout",
     "output_type": "stream",
     "text": [
      "[0. 0. 0. 0. 1. 0. 1. 0. 0. 0. 1. 1. 1. 1. 1.] 748.0 1443.0\n"
     ]
    }
   ],
   "source": [
    "#simulated annealing algorithm\n",
    "e=2.71828\n",
    "curr_comb=np.zeros(n)#这里可以随机生成初始点\n",
    "sa_comb=np.zeros(n)\n",
    "T=10#初始温度\n",
    "k=0.5#降温速度\n",
    "sa_profit=0\n",
    "endstep=100 #最大运行步数，停止条件\n",
    "dis=2\n",
    "i=0\n",
    "while i<=endstep:\n",
    "    next_comb=random.choice(neighbour(curr_comb,dis))\n",
    "    if f(next_comb)>f(curr_comb):\n",
    "        if random.random()<p(next_comb,curr_comb):\n",
    "            curr_comb = next_comb.copy()\n",
    "    else:\n",
    "        curr_comb = next_comb.copy()\n",
    "    if f(next_comb)<f(sa_comb):\n",
    "        sa_comb = next_comb.copy()\n",
    "    T=k*T\n",
    "    i=i+1\n",
    "    \n",
    "print(sa_comb,np.dot(sa_comb,weight),np.dot(sa_comb,profit))"
   ]
  }
 ],
 "metadata": {
  "kernelspec": {
   "display_name": "Python 3 (ipykernel)",
   "language": "python",
   "name": "python3"
  },
  "language_info": {
   "codemirror_mode": {
    "name": "ipython",
    "version": 3
   },
   "file_extension": ".py",
   "mimetype": "text/x-python",
   "name": "python",
   "nbconvert_exporter": "python",
   "pygments_lexer": "ipython3",
   "version": "3.9.7"
  }
 },
 "nbformat": 4,
 "nbformat_minor": 5
}
